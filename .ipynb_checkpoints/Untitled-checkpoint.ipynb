{
 "cells": [
  {
   "cell_type": "code",
   "execution_count": 1,
   "metadata": {},
   "outputs": [],
   "source": [
    "import os\n",
    "import glob\n",
    "\n",
    "\n",
    "cwd = os.getcwd()"
   ]
  },
  {
   "cell_type": "code",
   "execution_count": 2,
   "metadata": {},
   "outputs": [],
   "source": [
    "import cv2\n",
    "from PIL import Image\n"
   ]
  },
  {
   "cell_type": "code",
   "execution_count": 3,
   "metadata": {},
   "outputs": [
    {
     "data": {
      "text/plain": [
       "'C:\\\\projects\\\\image-processing-flask\\\\../static'"
      ]
     },
     "execution_count": 3,
     "metadata": {},
     "output_type": "execute_result"
    }
   ],
   "source": [
    "os.path.join(cwd,'../static')"
   ]
  },
  {
   "cell_type": "code",
   "execution_count": 4,
   "metadata": {},
   "outputs": [],
   "source": [
    "cwd = os.getcwd()\n",
    "im_static = 'static'\n",
    "im_list = os.listdir(im_static)"
   ]
  },
  {
   "cell_type": "code",
   "execution_count": 5,
   "metadata": {},
   "outputs": [],
   "source": [
    "import glob\n",
    "path_list = glob.glob(os.path.join(cwd,im_static,'*jpg'))"
   ]
  },
  {
   "cell_type": "code",
   "execution_count": null,
   "metadata": {},
   "outputs": [],
   "source": []
  },
  {
   "cell_type": "code",
   "execution_count": 6,
   "metadata": {},
   "outputs": [],
   "source": [
    "# sample = os.path.join(cwd,'static',im_list[0])\n",
    "sample = path_list[3]\n",
    "# sample = r\"C:\\projects\\ips2\\static\\aerial.jpg\""
   ]
  },
  {
   "cell_type": "code",
   "execution_count": 12,
   "metadata": {},
   "outputs": [
    {
     "name": "stdout",
     "output_type": "stream",
     "text": [
      "The dimension of the image is 871 x 1162\n"
     ]
    },
    {
     "data": {
      "text/plain": [
       "{'imagename': 'boat', 'width': 871, 'height': 1162, 'size': 276}"
      ]
     },
     "execution_count": 12,
     "metadata": {},
     "output_type": "execute_result"
    }
   ],
   "source": [
    "import os\n",
    "import subprocess\n",
    "from PIL import Image\n",
    "# image doesnt actually load the file when using open()\n",
    "\n",
    "def get_image_metadata(filename):\n",
    "    im = Image.open(filename)\n",
    "    width, height = im.size\n",
    "    size = os.stat(filename).st_size //1024 #convert to kb\n",
    "    print(\"The dimension of the image is\",width,\"x\",height)\n",
    "    file_name = os.path.basename(filename)[:-4] # hardcode -4 to remove .jpg or .png tag\n",
    "    return {'imagename':file_name,\n",
    "           'width':width,\n",
    "           'height':height,\n",
    "           'size':size}\n",
    "\n",
    "\n",
    "# def get_size(filename):\n",
    "#     st = os.stat(filename)\n",
    "#     return st.st_size\n",
    "\n",
    "\n",
    "# # def get_image_metadata(filename):\n",
    "# #    # open image for reading in binary mode\n",
    "# #     with open(filename,'rb') as img_file:\n",
    "\n",
    "# #         # height of image (in 2 bytes) is at 164th position\n",
    "# #         img_file.seek(163)\n",
    "\n",
    "# #         # read the 2 bytes\n",
    "# #         a = img_file.read(2)\n",
    "\n",
    "# #         # calculate height\n",
    "# #         height = (a[0] << 8) + a[1]\n",
    "\n",
    "# #         # next 2 bytes is width\n",
    "# #         a = img_file.read(2)\n",
    "\n",
    "# #         # calculate width\n",
    "# #         width = (a[0] << 8) + a[1]\n",
    "\n",
    "# #         print(\"The dimension of the image is\",width,\"x\",height)\n",
    "# #         return img_file\n",
    "\n",
    "\n",
    "filePath = sample\n",
    "# print(\"The size of file is \" + str(get_size(filePath)) + \" bytes\")/\n",
    "i = get_image_metadata(filePath)\n",
    "i"
   ]
  },
  {
   "cell_type": "code",
   "execution_count": 13,
   "metadata": {},
   "outputs": [],
   "source": [
    "import pymongo"
   ]
  },
  {
   "cell_type": "code",
   "execution_count": 14,
   "metadata": {},
   "outputs": [],
   "source": [
    "client= pymongo.MongoClient()\n",
    "\n",
    "db = client['test']"
   ]
  },
  {
   "cell_type": "code",
   "execution_count": 15,
   "metadata": {},
   "outputs": [
    {
     "name": "stdout",
     "output_type": "stream",
     "text": [
      "The dimension of the image is 774 x 580\n",
      "The dimension of the image is 435 x 653\n",
      "The dimension of the image is 523 x 785\n",
      "The dimension of the image is 871 x 1162\n",
      "The dimension of the image is 1252 x 1565\n",
      "The dimension of the image is 1360 x 906\n",
      "The dimension of the image is 1176 x 784\n",
      "The dimension of the image is 544 x 681\n",
      "The dimension of the image is 1053 x 1580\n",
      "The dimension of the image is 437 x 655\n",
      "The dimension of the image is 935 x 1403\n",
      "The dimension of the image is 1360 x 906\n",
      "The dimension of the image is 1136 x 757\n",
      "The dimension of the image is 562 x 703\n",
      "The dimension of the image is 1140 x 760\n",
      "The dimension of the image is 1072 x 710\n",
      "The dimension of the image is 738 x 492\n",
      "The dimension of the image is 840 x 1261\n",
      "The dimension of the image is 1196 x 1595\n",
      "The dimension of the image is 847 x 563\n",
      "The dimension of the image is 1247 x 825\n"
     ]
    }
   ],
   "source": [
    "for imf in path_list:\n",
    "    meta_data = get_image_metadata(imf)\n",
    "    db.test.insert_one(meta_data)"
   ]
  },
  {
   "cell_type": "code",
   "execution_count": 17,
   "metadata": {},
   "outputs": [
    {
     "name": "stdout",
     "output_type": "stream",
     "text": [
      "{'_id': ObjectId('5fffe080b81bad797d3c021e'), 'imagename': 'beach', 'width': 523, 'height': 785, 'size': 74}\n",
      "{'_id': ObjectId('5fffe123b81bad797d3c0220'), 'imagename': 'boat', 'width': 871, 'height': 1162, 'size': 276}\n",
      "{'_id': ObjectId('5fffe182b81bad797d3c0223'), 'imagename': 'aerial', 'width': 774, 'height': 580, 'size': 198}\n",
      "{'_id': ObjectId('5fffe182b81bad797d3c0224'), 'imagename': 'basketball', 'width': 435, 'height': 653, 'size': 52}\n",
      "{'_id': ObjectId('5fffe182b81bad797d3c0225'), 'imagename': 'beach', 'width': 523, 'height': 785, 'size': 74}\n",
      "{'_id': ObjectId('5fffe182b81bad797d3c0226'), 'imagename': 'boat', 'width': 871, 'height': 1162, 'size': 276}\n",
      "{'_id': ObjectId('5fffe182b81bad797d3c0227'), 'imagename': 'bridge', 'width': 1252, 'height': 1565, 'size': 531}\n",
      "{'_id': ObjectId('5fffe182b81bad797d3c0228'), 'imagename': 'car', 'width': 1360, 'height': 906, 'size': 446}\n",
      "{'_id': ObjectId('5fffe182b81bad797d3c0229'), 'imagename': 'chair', 'width': 1176, 'height': 784, 'size': 479}\n",
      "{'_id': ObjectId('5fffe182b81bad797d3c022a'), 'imagename': 'city', 'width': 544, 'height': 681, 'size': 79}\n",
      "{'_id': ObjectId('5fffe182b81bad797d3c022b'), 'imagename': 'clock', 'width': 1053, 'height': 1580, 'size': 327}\n",
      "{'_id': ObjectId('5fffe182b81bad797d3c022c'), 'imagename': 'drive', 'width': 437, 'height': 655, 'size': 75}\n",
      "{'_id': ObjectId('5fffe182b81bad797d3c022d'), 'imagename': 'film', 'width': 935, 'height': 1403, 'size': 191}\n",
      "{'_id': ObjectId('5fffe182b81bad797d3c022e'), 'imagename': 'Fushimi-Inari-taisha', 'width': 1136, 'height': 757, 'size': 169}\n",
      "{'_id': ObjectId('5fffe182b81bad797d3c022f'), 'imagename': 'lego', 'width': 562, 'height': 703, 'size': 110}\n",
      "{'_id': ObjectId('5fffe182b81bad797d3c0230'), 'imagename': 'oceanview', 'width': 1140, 'height': 760, 'size': 206}\n",
      "{'_id': ObjectId('5fffe182b81bad797d3c0231'), 'imagename': 'pencils', 'width': 1072, 'height': 710, 'size': 74}\n",
      "{'_id': ObjectId('5fffe182b81bad797d3c0232'), 'imagename': 'photo', 'width': 738, 'height': 492, 'size': 89}\n",
      "{'_id': ObjectId('5fffe182b81bad797d3c0233'), 'imagename': 'plane', 'width': 840, 'height': 1261, 'size': 75}\n",
      "{'_id': ObjectId('5fffe182b81bad797d3c0234'), 'imagename': 'road', 'width': 1196, 'height': 1595, 'size': 616}\n",
      "{'_id': ObjectId('5fffe182b81bad797d3c0235'), 'imagename': 'rocks', 'width': 847, 'height': 563, 'size': 222}\n",
      "{'_id': ObjectId('5fffe182b81bad797d3c0236'), 'imagename': 'trees', 'width': 1247, 'height': 825, 'size': 385}\n",
      "{'_id': ObjectId('600378f5c621473dd3c6bd09'), 'imagename': 'aerial', 'width': 774, 'height': 580, 'size': 198}\n",
      "{'_id': ObjectId('600378f5c621473dd3c6bd0a'), 'imagename': 'basketball', 'width': 435, 'height': 653, 'size': 52}\n",
      "{'_id': ObjectId('600378f5c621473dd3c6bd0b'), 'imagename': 'beach', 'width': 523, 'height': 785, 'size': 74}\n",
      "{'_id': ObjectId('600378f5c621473dd3c6bd0c'), 'imagename': 'boat', 'width': 871, 'height': 1162, 'size': 276}\n",
      "{'_id': ObjectId('600378f5c621473dd3c6bd0d'), 'imagename': 'bridge', 'width': 1252, 'height': 1565, 'size': 531}\n",
      "{'_id': ObjectId('600378f5c621473dd3c6bd0e'), 'imagename': 'car', 'width': 1360, 'height': 906, 'size': 446}\n",
      "{'_id': ObjectId('600378f5c621473dd3c6bd0f'), 'imagename': 'chair', 'width': 1176, 'height': 784, 'size': 479}\n",
      "{'_id': ObjectId('600378f5c621473dd3c6bd10'), 'imagename': 'city', 'width': 544, 'height': 681, 'size': 79}\n",
      "{'_id': ObjectId('600378f5c621473dd3c6bd11'), 'imagename': 'clock', 'width': 1053, 'height': 1580, 'size': 327}\n",
      "{'_id': ObjectId('600378f5c621473dd3c6bd12'), 'imagename': 'drive', 'width': 437, 'height': 655, 'size': 75}\n",
      "{'_id': ObjectId('600378f5c621473dd3c6bd13'), 'imagename': 'film', 'width': 935, 'height': 1403, 'size': 191}\n",
      "{'_id': ObjectId('600378f5c621473dd3c6bd14'), 'imagename': 'filtered_grayscale_car_333', 'width': 1360, 'height': 906, 'size': 216}\n",
      "{'_id': ObjectId('600378f5c621473dd3c6bd15'), 'imagename': 'Fushimi-Inari-taisha', 'width': 1136, 'height': 757, 'size': 169}\n",
      "{'_id': ObjectId('600378f5c621473dd3c6bd16'), 'imagename': 'lego', 'width': 562, 'height': 703, 'size': 110}\n",
      "{'_id': ObjectId('600378f5c621473dd3c6bd17'), 'imagename': 'oceanview', 'width': 1140, 'height': 760, 'size': 206}\n",
      "{'_id': ObjectId('600378f5c621473dd3c6bd18'), 'imagename': 'pencils', 'width': 1072, 'height': 710, 'size': 74}\n",
      "{'_id': ObjectId('600378f5c621473dd3c6bd19'), 'imagename': 'photo', 'width': 738, 'height': 492, 'size': 89}\n",
      "{'_id': ObjectId('600378f5c621473dd3c6bd1a'), 'imagename': 'plane', 'width': 840, 'height': 1261, 'size': 75}\n",
      "{'_id': ObjectId('600378f5c621473dd3c6bd1b'), 'imagename': 'road', 'width': 1196, 'height': 1595, 'size': 616}\n",
      "{'_id': ObjectId('600378f5c621473dd3c6bd1c'), 'imagename': 'rocks', 'width': 847, 'height': 563, 'size': 222}\n",
      "{'_id': ObjectId('600378f5c621473dd3c6bd1d'), 'imagename': 'trees', 'width': 1247, 'height': 825, 'size': 385}\n"
     ]
    }
   ],
   "source": [
    "for a in db.test.find():\n",
    "    print(a)"
   ]
  },
  {
   "cell_type": "code",
   "execution_count": null,
   "metadata": {},
   "outputs": [],
   "source": [
    "db.test.find()"
   ]
  },
  {
   "cell_type": "code",
   "execution_count": 10,
   "metadata": {},
   "outputs": [
    {
     "ename": "NameError",
     "evalue": "name 'db' is not defined",
     "output_type": "error",
     "traceback": [
      "\u001b[1;31m---------------------------------------------------------------------------\u001b[0m",
      "\u001b[1;31mNameError\u001b[0m                                 Traceback (most recent call last)",
      "\u001b[1;32m<ipython-input-10-d124d21ec685>\u001b[0m in \u001b[0;36m<module>\u001b[1;34m\u001b[0m\n\u001b[1;32m----> 1\u001b[1;33m \u001b[0mdb\u001b[0m\u001b[1;33m.\u001b[0m\u001b[0mposts\u001b[0m\u001b[1;33m.\u001b[0m\u001b[0minsert_one\u001b[0m\u001b[1;33m(\u001b[0m\u001b[0mi\u001b[0m\u001b[1;33m)\u001b[0m\u001b[1;33m\u001b[0m\u001b[1;33m\u001b[0m\u001b[0m\n\u001b[0m",
      "\u001b[1;31mNameError\u001b[0m: name 'db' is not defined"
     ]
    }
   ],
   "source": [
    "db.posts.insert_one(i)"
   ]
  },
  {
   "cell_type": "code",
   "execution_count": 69,
   "metadata": {},
   "outputs": [
    {
     "name": "stderr",
     "output_type": "stream",
     "text": [
      "<ipython-input-69-8ff4d2505e25>:1: DeprecationWarning: collection_names is deprecated. Use list_collection_names instead.\n",
      "  db.collection_names()\n"
     ]
    },
    {
     "data": {
      "text/plain": [
       "['posts']"
      ]
     },
     "execution_count": 69,
     "metadata": {},
     "output_type": "execute_result"
    }
   ],
   "source": [
    "db.collection_names()"
   ]
  },
  {
   "cell_type": "code",
   "execution_count": 30,
   "metadata": {},
   "outputs": [
    {
     "data": {
      "text/plain": [
       "'aerial.jpg'"
      ]
     },
     "execution_count": 30,
     "metadata": {},
     "output_type": "execute_result"
    }
   ],
   "source": [
    "os.path.basename(sample)"
   ]
  },
  {
   "cell_type": "code",
   "execution_count": 22,
   "metadata": {},
   "outputs": [
    {
     "data": {
      "text/plain": [
       "(580, 774, 3)"
      ]
     },
     "execution_count": 22,
     "metadata": {},
     "output_type": "execute_result"
    }
   ],
   "source": [
    "img = cv2.imread(sample)\n",
    "img.shape"
   ]
  },
  {
   "cell_type": "code",
   "execution_count": 25,
   "metadata": {},
   "outputs": [
    {
     "data": {
      "text/plain": [
       "1346760"
      ]
     },
     "execution_count": 25,
     "metadata": {},
     "output_type": "execute_result"
    }
   ],
   "source": [
    "580*774*3\n",
    "\n",
    "\n"
   ]
  },
  {
   "cell_type": "code",
   "execution_count": 28,
   "metadata": {},
   "outputs": [
    {
     "data": {
      "text/plain": [
       "10829470.222222222"
      ]
     },
     "execution_count": 28,
     "metadata": {},
     "output_type": "execute_result"
    }
   ],
   "source": [
    "11824 * 8243 /9"
   ]
  },
  {
   "cell_type": "code",
   "execution_count": 10,
   "metadata": {},
   "outputs": [
    {
     "data": {
      "text/plain": [
       "1"
      ]
     },
     "execution_count": 10,
     "metadata": {},
     "output_type": "execute_result"
    }
   ],
   "source": [
    "os.system(\"C:\\projects\\ips2\\static\\aerial.jpg\")"
   ]
  },
  {
   "cell_type": "code",
   "execution_count": 11,
   "metadata": {},
   "outputs": [
    {
     "data": {
      "text/plain": [
       "0"
      ]
     },
     "execution_count": 11,
     "metadata": {},
     "output_type": "execute_result"
    }
   ],
   "source": [
    "cmd = 'ls'\n",
    "os.system('ls -l')"
   ]
  },
  {
   "cell_type": "code",
   "execution_count": 12,
   "metadata": {},
   "outputs": [
    {
     "data": {
      "text/plain": [
       "CompletedProcess(args=['ls', '-l'], returncode=0, stdout=b'total 59\\ndrwxr-xr-x 1 kns92 197121     0 Jan 13 23:47 __pycache__\\ndrwxr-xr-x 1 kns92 197121     0 Jan 11 22:30 db\\n-rw-r--r-- 1 kns92 197121   647 Jan 13 23:47 docker-compose.yml\\n-rw-r--r-- 1 kns92 197121  1032 Jan 13 23:33 Dockerfile\\n-rw-r--r-- 1 kns92 197121  5506 Jan 13 23:53 imageserver.py\\n-rw-r--r-- 1 kns92 197121   340 Jan 13 23:13 init-db.js\\n-rw-r--r-- 1 kns92 197121   561 Jan 13 23:37 mybashscript.sh\\n-rw-r--r-- 1 kns92 197121   996 Jul  3  2018 README.md\\n-rw-r--r-- 1 kns92 197121    55 Jan 13 23:51 requirements.txt\\ndrwxr-xr-x 1 kns92 197121     0 Jan 13 23:58 static\\n-rw-r--r-- 1 kns92 197121   421 Jan 13 23:47 structuraDB.py\\ndrwxr-xr-x 1 kns92 197121     0 Jul  3  2018 templates\\n-rw-r--r-- 1 kns92 197121 11930 Jan 14 00:31 Untitled.ipynb\\n', stderr=b'')"
      ]
     },
     "execution_count": 12,
     "metadata": {},
     "output_type": "execute_result"
    }
   ],
   "source": [
    "subprocess.run([\"ls\", \"-l\"], capture_output=True, shell= True)"
   ]
  },
  {
   "cell_type": "code",
   "execution_count": 13,
   "metadata": {},
   "outputs": [],
   "source": [
    "process = subprocess.run('ls -lha', shell=True, check=True, stdout=subprocess.PIPE, universal_newlines=True)\n",
    "output = process.stdout"
   ]
  },
  {
   "cell_type": "code",
   "execution_count": 14,
   "metadata": {},
   "outputs": [
    {
     "data": {
      "text/plain": [
       "'t'"
      ]
     },
     "execution_count": 14,
     "metadata": {},
     "output_type": "execute_result"
    }
   ],
   "source": [
    "output[0]"
   ]
  },
  {
   "cell_type": "code",
   "execution_count": 15,
   "metadata": {},
   "outputs": [
    {
     "ename": "CalledProcessError",
     "evalue": "Command 'read -r file width height size <<< $( convert $C:\\projects\\ips2\\static\\aerial.jpg -format \"%f %w %h %b\" info:);' returned non-zero exit status 1.",
     "output_type": "error",
     "traceback": [
      "\u001b[1;31m---------------------------------------------------------------------------\u001b[0m",
      "\u001b[1;31mCalledProcessError\u001b[0m                        Traceback (most recent call last)",
      "\u001b[1;32m<ipython-input-15-34d31d6f15ae>\u001b[0m in \u001b[0;36m<module>\u001b[1;34m\u001b[0m\n\u001b[0;32m      1\u001b[0m \u001b[0msample\u001b[0m\u001b[1;33m\u001b[0m\u001b[1;33m\u001b[0m\u001b[0m\n\u001b[1;32m----> 2\u001b[1;33m process = subprocess.run(f'read -r file width height size <<< $( convert ${sample} -format \"%f %w %h %b\" info:);',\n\u001b[0m\u001b[0;32m      3\u001b[0m                          \u001b[0mshell\u001b[0m\u001b[1;33m=\u001b[0m\u001b[1;32mTrue\u001b[0m\u001b[1;33m,\u001b[0m\u001b[1;33m\u001b[0m\u001b[1;33m\u001b[0m\u001b[0m\n\u001b[0;32m      4\u001b[0m                          \u001b[0mcheck\u001b[0m\u001b[1;33m=\u001b[0m\u001b[1;32mTrue\u001b[0m\u001b[1;33m,\u001b[0m\u001b[1;33m\u001b[0m\u001b[1;33m\u001b[0m\u001b[0m\n\u001b[0;32m      5\u001b[0m                          \u001b[0mstdout\u001b[0m\u001b[1;33m=\u001b[0m\u001b[0msubprocess\u001b[0m\u001b[1;33m.\u001b[0m\u001b[0mPIPE\u001b[0m\u001b[1;33m,\u001b[0m\u001b[1;33m\u001b[0m\u001b[1;33m\u001b[0m\u001b[0m\n",
      "\u001b[1;32mC:\\Anaconda3\\lib\\subprocess.py\u001b[0m in \u001b[0;36mrun\u001b[1;34m(input, capture_output, timeout, check, *popenargs, **kwargs)\u001b[0m\n\u001b[0;32m    510\u001b[0m         \u001b[0mretcode\u001b[0m \u001b[1;33m=\u001b[0m \u001b[0mprocess\u001b[0m\u001b[1;33m.\u001b[0m\u001b[0mpoll\u001b[0m\u001b[1;33m(\u001b[0m\u001b[1;33m)\u001b[0m\u001b[1;33m\u001b[0m\u001b[1;33m\u001b[0m\u001b[0m\n\u001b[0;32m    511\u001b[0m         \u001b[1;32mif\u001b[0m \u001b[0mcheck\u001b[0m \u001b[1;32mand\u001b[0m \u001b[0mretcode\u001b[0m\u001b[1;33m:\u001b[0m\u001b[1;33m\u001b[0m\u001b[1;33m\u001b[0m\u001b[0m\n\u001b[1;32m--> 512\u001b[1;33m             raise CalledProcessError(retcode, process.args,\n\u001b[0m\u001b[0;32m    513\u001b[0m                                      output=stdout, stderr=stderr)\n\u001b[0;32m    514\u001b[0m     \u001b[1;32mreturn\u001b[0m \u001b[0mCompletedProcess\u001b[0m\u001b[1;33m(\u001b[0m\u001b[0mprocess\u001b[0m\u001b[1;33m.\u001b[0m\u001b[0margs\u001b[0m\u001b[1;33m,\u001b[0m \u001b[0mretcode\u001b[0m\u001b[1;33m,\u001b[0m \u001b[0mstdout\u001b[0m\u001b[1;33m,\u001b[0m \u001b[0mstderr\u001b[0m\u001b[1;33m)\u001b[0m\u001b[1;33m\u001b[0m\u001b[1;33m\u001b[0m\u001b[0m\n",
      "\u001b[1;31mCalledProcessError\u001b[0m: Command 'read -r file width height size <<< $( convert $C:\\projects\\ips2\\static\\aerial.jpg -format \"%f %w %h %b\" info:);' returned non-zero exit status 1."
     ]
    }
   ],
   "source": [
    "sample\n",
    "process = subprocess.run(f'read -r file width height size <<< $( convert ${sample} -format \"%f %w %h %b\" info:);',\n",
    "                         shell=True, \n",
    "                         check=True, \n",
    "                         stdout=subprocess.PIPE, \n",
    "                         universal_newlines=True)\n",
    "output = process.stdout"
   ]
  },
  {
   "cell_type": "code",
   "execution_count": null,
   "metadata": {},
   "outputs": [],
   "source": []
  },
  {
   "cell_type": "code",
   "execution_count": null,
   "metadata": {},
   "outputs": [],
   "source": []
  }
 ],
 "metadata": {
  "kernelspec": {
   "display_name": "Python 3",
   "language": "python",
   "name": "python3"
  },
  "language_info": {
   "codemirror_mode": {
    "name": "ipython",
    "version": 3
   },
   "file_extension": ".py",
   "mimetype": "text/x-python",
   "name": "python",
   "nbconvert_exporter": "python",
   "pygments_lexer": "ipython3",
   "version": "3.8.5"
  }
 },
 "nbformat": 4,
 "nbformat_minor": 4
}
